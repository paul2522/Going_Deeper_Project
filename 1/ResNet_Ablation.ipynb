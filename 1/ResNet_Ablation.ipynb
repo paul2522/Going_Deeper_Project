{
 "cells": [
  {
   "cell_type": "markdown",
   "metadata": {},
   "source": [
    "# ResNet Ablation"
   ]
  },
  {
   "cell_type": "markdown",
   "metadata": {},
   "source": [
    "## 실습목표"
   ]
  },
  {
   "cell_type": "markdown",
   "metadata": {},
   "source": [
    "* 직접 ResNet 구현하기\n",
    "* 모델을 config에 따라서 변경 가능하도록 만들기\n",
    "* 직접 실험해서 성능 비교하기"
   ]
  },
  {
   "cell_type": "markdown",
   "metadata": {},
   "source": [
    "## 학습내용"
   ]
  },
  {
   "cell_type": "markdown",
   "metadata": {},
   "source": [
    "1. Ablation Study\n",
    "2. CIFAR-10 데이터셋 준비\n",
    "3. 블록 구성\n",
    "4. VGG Complete Model\n",
    "5. VGG-16 vs VGG-19\n",
    "6. ResNet Ablation Study"
   ]
  },
  {
   "cell_type": "markdown",
   "metadata": {},
   "source": [
    "## Ablation Study"
   ]
  },
  {
   "cell_type": "markdown",
   "metadata": {},
   "source": [
    "* Ablation Study : 제거 연구\n",
    "* 딥러닝에서 해당 방법을 제거한 모델과 제거하지 않은 모델의 결과를 비교하는 연구\n",
    "* ResNet이 residual connection의 애블레이션 연구"
   ]
  },
  {
   "cell_type": "markdown",
   "metadata": {},
   "source": [
    "## CIFAR-10 dataset 준비하기"
   ]
  },
  {
   "cell_type": "markdown",
   "metadata": {},
   "source": [
    "### CIFAR-10"
   ]
  },
  {
   "cell_type": "markdown",
   "metadata": {},
   "source": [
    "* Dataset 준비"
   ]
  },
  {
   "cell_type": "code",
   "execution_count": 4,
   "metadata": {},
   "outputs": [],
   "source": [
    "# TensorFlow and tf.keras\n",
    "import tensorflow as tf\n",
    "from tensorflow import keras\n",
    "\n",
    "# Helper libraries\n",
    "import numpy as np\n",
    "import matplotlib.pyplot as plt\n",
    "import tensorflow_datasets as tfds"
   ]
  },
  {
   "cell_type": "markdown",
   "metadata": {},
   "source": [
    "* GPU 장착 확인"
   ]
  },
  {
   "cell_type": "code",
   "execution_count": 5,
   "metadata": {},
   "outputs": [
    {
     "data": {
      "text/plain": [
       "[PhysicalDevice(name='/physical_device:GPU:0', device_type='GPU')]"
      ]
     },
     "execution_count": 5,
     "metadata": {},
     "output_type": "execute_result"
    }
   ],
   "source": [
    "# Tensorflow가 활용할 GPU가 장착되어 있는지 확인해 봅니다.\n",
    "tf.config.list_physical_devices('GPU')"
   ]
  },
  {
   "cell_type": "markdown",
   "metadata": {},
   "source": [
    "* tfds.load() : default로 ~/tensorflow_datasets 경로에 데이터셋을 다운로드\n",
    "* data_dir : 데이터셋 경로 변경"
   ]
  },
  {
   "cell_type": "code",
   "execution_count": null,
   "metadata": {},
   "outputs": [],
   "source": [
    "import urllib3\n",
    "urllib3.disable_warnings()\n",
    "\n",
    "#tfds.disable_progress_bar()   # 이 주석을 풀면 데이터셋 다운로드과정의 프로그레스바가 나타나지 않습니다.\n",
    "\n",
    "(ds_train, ds_test), ds_info = tfds.load(\n",
    "    'cifar10',\n",
    "    split=['train', 'test'],\n",
    "    shuffle_files=True,\n",
    "    with_info=True,\n",
    "    data_dir = 'data'\n",
    ")"
   ]
  },
  {
   "cell_type": "markdown",
   "metadata": {},
   "source": [
    "* feature 정보 확인"
   ]
  },
  {
   "cell_type": "code",
   "execution_count": null,
   "metadata": {},
   "outputs": [],
   "source": [
    "# Tensorflow 데이터셋을 로드하면 꼭 feature 정보를 확인해 보세요. \n",
    "print(ds_info.features)"
   ]
  },
  {
   "cell_type": "code",
   "execution_count": null,
   "metadata": {},
   "outputs": [],
   "source": [
    "# 데이터의 개수도 확인해 봅시다. \n",
    "print(tf.data.experimental.cardinality(ds_train))\n",
    "print(tf.data.experimental.cardinality(ds_test))"
   ]
  },
  {
   "cell_type": "markdown",
   "metadata": {},
   "source": [
    "### Input Normalization"
   ]
  },
  {
   "cell_type": "markdown",
   "metadata": {},
   "source": [
    "* Data Normalization : 데이터의 범위를 사용자가 원하는대로 제한하는 것\n",
    "* 최댓값인 255로 정규화(normalize) 해주어 이미지 표현이 0과 1 사이로 들어오도록 해줌"
   ]
  },
  {
   "cell_type": "code",
   "execution_count": null,
   "metadata": {},
   "outputs": [],
   "source": [
    "def normalize_and_resize_img(image, label):\n",
    "    \"\"\"Normalizes images: `uint8` -> `float32`.\"\"\"\n",
    "    # image = tf.image.resize(image, [32, 32])\n",
    "    return tf.cast(image, tf.float32) / 255., label"
   ]
  },
  {
   "cell_type": "code",
   "execution_count": null,
   "metadata": {},
   "outputs": [],
   "source": [
    "def apply_normalize_on_dataset(ds, is_test=False, batch_size=16):\n",
    "    ds = ds.map(\n",
    "        normalize_and_resize_img, \n",
    "        num_parallel_calls=1\n",
    "    )\n",
    "    ds = ds.batch(batch_size)\n",
    "    if not is_test:\n",
    "        ds = ds.repeat()\n",
    "        ds = ds.shuffle(200)\n",
    "    ds = ds.prefetch(tf.data.experimental.AUTOTUNE)\n",
    "    return ds"
   ]
  },
  {
   "cell_type": "markdown",
   "metadata": {},
   "source": [
    "* label 확인"
   ]
  },
  {
   "cell_type": "code",
   "execution_count": null,
   "metadata": {},
   "outputs": [],
   "source": [
    "ds_info.features[\"label\"].num_classes"
   ]
  },
  {
   "cell_type": "code",
   "execution_count": null,
   "metadata": {},
   "outputs": [],
   "source": [
    "ds_info.features[\"label\"].names"
   ]
  },
  {
   "cell_type": "code",
   "execution_count": null,
   "metadata": {},
   "outputs": [],
   "source": [
    "fig = tfds.show_examples(ds_train, ds_info)"
   ]
  },
  {
   "cell_type": "code",
   "execution_count": null,
   "metadata": {},
   "outputs": [],
   "source": [
    "fig = tfds.show_examples(ds_test, ds_info)"
   ]
  },
  {
   "cell_type": "markdown",
   "metadata": {},
   "source": [
    "## 블록 구성하기"
   ]
  },
  {
   "cell_type": "markdown",
   "metadata": {},
   "source": [
    "### ResNet 구조"
   ]
  },
  {
   "cell_type": "markdown",
   "metadata": {},
   "source": [
    "* 블록(Block) : 주요 구조를 모듈화하여 조금씩 바꾸어 쓸 수 있는 단위\n",
    "* 레이어(Layer) : Tensroflow, Keras, Pytorch 등에서 기본적으로 제공하는 단위"
   ]
  },
  {
   "cell_type": "markdown",
   "metadata": {},
   "source": [
    "<img src = 'image/Architecture1.png' height = 70% width = 70%>\n",
    "\n",
    "(from Deep Residual Learning for Image Recognition Paper)"
   ]
  },
  {
   "cell_type": "markdown",
   "metadata": {},
   "source": [
    "* ResNet을 보면 ResNet-18, 34, 50, 101, 152로 다섯가지 네트워크가 있습니다.\n",
    "* 일일히 따로 만들기는 불편하기에 기본 구조인 블록부터 구현하겠습니다."
   ]
  },
  {
   "cell_type": "markdown",
   "metadata": {},
   "source": [
    "### VGG 기본 구조 만들기"
   ]
  },
  {
   "cell_type": "markdown",
   "metadata": {},
   "source": [
    "* CNN 레이어 여러 개와 Max Pooling 레이어 한 개로 이루어짐\n",
    "* CNN 커널은 모두 3x3 라는 대표적인 특징이 있음\n",
    "* 블록 내 CNN 레이어 채널의 수는 유지, 다른 블록에서 변경 될 수 있다.\n",
    "* 블록 마지막에는 항상 Max Pooling 레이어가 붙음\n",
    "* block_num : 레이어의 이름을 붙여주기 위해 추가\n",
    "* input_shape : summary를 출력하기 위해 넣어줌"
   ]
  },
  {
   "cell_type": "code",
   "execution_count": null,
   "metadata": {},
   "outputs": [],
   "source": [
    "# input_layer : 초기 입력값\n",
    "# num_cnn : convolution layer의 갯수\n",
    "# channel : 채널 수\n",
    "# block_num : 블록 개수\n",
    "def build_vgg_block(input_layer,\n",
    "                    num_cnn=3, \n",
    "                    channel=64,\n",
    "                    block_num=1,\n",
    "                    ):\n",
    "    # 입력 레이어\n",
    "    x = input_layer\n",
    "\n",
    "    # CNN 레이어\n",
    "    # filters : 채널 갯수 넣기\n",
    "    # VGG에서는 커널 사이즈(filter size)가 (3,3)으로 고정입니다.\n",
    "    # 활성화 함수 : relu\n",
    "    # kernel_initializer='he_normal'\n",
    "    # 커널 Weight Matrix의 초기값입니다. - he_normalization : 정규분포를 활용한 초기화 방법입니다.\n",
    "    # padding (https://ardino.tistory.com/40)\n",
    "    # valid : padding을 추가하지 않는 경우\n",
    "    # full : 입력데이터의 모든 원소가 합성곱 연산에 같은 비율로 참여하도록 하는 패딩 방식을 풀 패딩(full padding)\n",
    "    # same : 출력 크기를 입력크기와 동일하게 함.\n",
    "    # name : 이름 설정 'block 블록 수_conv cnn수 \n",
    "    for cnn_num in range(num_cnn):\n",
    "        x = keras.layers.Conv2D(\n",
    "            filters=channel,\n",
    "            kernel_size=(3,3),\n",
    "            activation='relu',\n",
    "            kernel_initializer='he_normal',\n",
    "            padding='same',\n",
    "            name=f'block{block_num}_conv{cnn_num}'\n",
    "        )(x)    \n",
    "\n",
    "    # Max Pooling 레이어\n",
    "    x = keras.layers.MaxPooling2D(\n",
    "        pool_size=(2, 2),\n",
    "        strides=2,\n",
    "        name=f'block{block_num}_pooling'\n",
    "    )(x)\n",
    "\n",
    "    return x"
   ]
  },
  {
   "cell_type": "markdown",
   "metadata": {},
   "source": [
    "* 위 함수를 통해 VGG 블록을 input_layer에 추가해봅시다.\n",
    "* 입력 레이어는 데이터 셋에서 확인한 (32,32,3)\n",
    "* 이 입력 레이어를 인자로 받아 build_vgg_block() 는 블록 레이어를 build 하고 출력값을 얻을 수 있습니다.\n",
    "* keras의 Model 클래스에서 input과 output을 정의해 주면 간단히 블록 모델을 확인해 볼 수 있습니다.\n",
    "* [tf.keras.Model](https://www.tensorflow.org/api_docs/python/tf/keras/Model)"
   ]
  },
  {
   "cell_type": "code",
   "execution_count": null,
   "metadata": {},
   "outputs": [],
   "source": [
    "vgg_input_layer = keras.layers.Input(shape=(32,32,3))   # 입력 레이어 생성\n",
    "vgg_block_output = build_vgg_block(vgg_input_layer)    # VGG 블록 생성"
   ]
  },
  {
   "cell_type": "code",
   "execution_count": null,
   "metadata": {},
   "outputs": [],
   "source": [
    "# 블록 1개짜리 model 생성\n",
    "model = keras.Model(inputs=vgg_input_layer, outputs=vgg_block_output)  \n",
    "\n",
    "model.summary()"
   ]
  },
  {
   "cell_type": "markdown",
   "metadata": {},
   "source": [
    "## VGG Complete Model"
   ]
  },
  {
   "cell_type": "markdown",
   "metadata": {},
   "source": [
    "### VGG - 16"
   ]
  },
  {
   "cell_type": "code",
   "execution_count": null,
   "metadata": {},
   "outputs": [],
   "source": [
    "# input_shape : 입력값의 크기\n",
    "# num_cnn_list : 블록당 convolution layer 갯수의 리스트\n",
    "# channel_list : 블록당 channel 수의 리스트\n",
    "# num_classes : 최종 label(class)의 갯수\n",
    "\n",
    "def build_vgg(input_shape=(32,32,3),\n",
    "              num_cnn_list=[2,2,3,3,3],\n",
    "              channel_list=[64,128,256,512,512],\n",
    "              num_classes=10):\n",
    "    \n",
    "    # 블록마다 cnn과 channel을 설정해주기 때문에 \n",
    "    # num_cnn_list의 내부 원소 개수와 channel_list의 내부 원소 개수가 동일해야 합니다.\n",
    "    assert len(num_cnn_list) == len(channel_list)\n",
    "    \n",
    "    # input layer를 만들어둡니다.\n",
    "    input_layer = keras.layers.Input(shape=input_shape)\n",
    "    output = input_layer\n",
    "    \n",
    "    # config list들의 길이만큼 반복해서 블록을 생성합니다.\n",
    "    for i, (num_cnn, channel) in enumerate(zip(num_cnn_list, channel_list)):\n",
    "        output = build_vgg_block(\n",
    "            output,\n",
    "            num_cnn=num_cnn, \n",
    "            channel=channel,\n",
    "            block_num=i\n",
    "        )\n",
    "    \n",
    "    # Dense layer에 넣어주기 위해 flatten 합니다.\n",
    "    output = keras.layers.Flatten(name='flatten')(output)\n",
    "    # Dense 1차\n",
    "    output = keras.layers.Dense(4096, activation='relu', name='fc1')(output)\n",
    "    # Dense 2차\n",
    "    output = keras.layers.Dense(4096, activation='relu', name='fc2')(output)\n",
    "    # 10개의 label 값에 대한 확률을 나타내기 위해 softmax 활성화 함수를 적용합니다.\n",
    "    output = keras.layers.Dense(num_classes, activation='softmax', name='predictions')(output)\n",
    "    \n",
    "    model = keras.Model(\n",
    "        inputs=input_layer, \n",
    "        outputs=output\n",
    "    )\n",
    "    return model"
   ]
  },
  {
   "cell_type": "code",
   "execution_count": null,
   "metadata": {},
   "outputs": [],
   "source": [
    "vgg_16 = build_vgg()\n",
    "\n",
    "vgg_16.summary()"
   ]
  },
  {
   "cell_type": "markdown",
   "metadata": {},
   "source": [
    "### VGG - 19"
   ]
  },
  {
   "cell_type": "code",
   "execution_count": null,
   "metadata": {},
   "outputs": [],
   "source": [
    "# 원하는 블록의 설계에 따라 매개변수로 리스트를 전달해 줍니다.\n",
    "vgg_19 = build_vgg(\n",
    "    num_cnn_list=[2,2,4,4,4],\n",
    "    channel_list=[64,128,256,512,512]\n",
    ")\n",
    "\n",
    "vgg_19.summary()"
   ]
  },
  {
   "cell_type": "markdown",
   "metadata": {},
   "source": [
    "## VGG-16 vs VGG-19"
   ]
  },
  {
   "cell_type": "markdown",
   "metadata": {},
   "source": [
    "### CIFAR-10 불러오기"
   ]
  },
  {
   "cell_type": "code",
   "execution_count": null,
   "metadata": {},
   "outputs": [],
   "source": [
    "BATCH_SIZE = 256\n",
    "EPOCH = 15"
   ]
  },
  {
   "cell_type": "code",
   "execution_count": null,
   "metadata": {},
   "outputs": [],
   "source": [
    "(ds_train, ds_test), ds_info = tfds.load(\n",
    "    'cifar10',\n",
    "    split=['train', 'test'],\n",
    "    as_supervised=True,\n",
    "    shuffle_files=True,\n",
    "    with_info=True,\n",
    ")\n",
    "ds_train = apply_normalize_on_dataset(ds_train, batch_size=BATCH_SIZE)\n",
    "ds_test = apply_normalize_on_dataset(ds_test, batch_size=BATCH_SIZE)"
   ]
  },
  {
   "cell_type": "markdown",
   "metadata": {},
   "source": [
    "* VGG 16 만들고 훈련"
   ]
  },
  {
   "cell_type": "code",
   "execution_count": null,
   "metadata": {},
   "outputs": [],
   "source": [
    "vgg_16.compile(\n",
    "    loss='sparse_categorical_crossentropy',\n",
    "    optimizer=tf.keras.optimizers.SGD(learning_rate=0.01, clipnorm=1.),\n",
    "    metrics=['accuracy'],\n",
    ")\n",
    "\n",
    "history_16 = vgg_16.fit(\n",
    "    ds_train,\n",
    "    steps_per_epoch=int(ds_info.splits['train'].num_examples/BATCH_SIZE),\n",
    "    validation_steps=int(ds_info.splits['test'].num_examples/BATCH_SIZE),\n",
    "    epochs=EPOCH,\n",
    "    validation_data=ds_test,\n",
    "    verbose=1,\n",
    "    use_multiprocessing=True,\n",
    ")"
   ]
  },
  {
   "cell_type": "markdown",
   "metadata": {},
   "source": [
    "* VGG 19 만들고 훈련"
   ]
  },
  {
   "cell_type": "code",
   "execution_count": null,
   "metadata": {},
   "outputs": [],
   "source": [
    "vgg_19.compile(\n",
    "    loss='sparse_categorical_crossentropy',\n",
    "    optimizer=tf.keras.optimizers.SGD(learning_rate=0.01, clipnorm=1.),\n",
    "    metrics=['accuracy'],\n",
    ")\n",
    "\n",
    "history_19 = vgg_19.fit(\n",
    "    ds_train,\n",
    "    steps_per_epoch=int(ds_info.splits['train'].num_examples/BATCH_SIZE),\n",
    "    validation_steps=int(ds_info.splits['test'].num_examples/BATCH_SIZE),\n",
    "    epochs=EPOCH,\n",
    "    validation_data=ds_test,\n",
    "    verbose=1,\n",
    "    use_multiprocessing=True,\n",
    ")"
   ]
  },
  {
   "cell_type": "markdown",
   "metadata": {},
   "source": [
    "* 훈련 손실이 어떻게 다르게 진행되는지 비교"
   ]
  },
  {
   "cell_type": "code",
   "execution_count": null,
   "metadata": {},
   "outputs": [],
   "source": [
    "import matplotlib.pyplot as plt\n",
    "\n",
    "plt.plot(history_16.history['loss'], 'r')\n",
    "plt.plot(history_19.history['loss'], 'b')\n",
    "plt.title('Model training loss')\n",
    "plt.ylabel('Loss')\n",
    "plt.xlabel('Epoch')\n",
    "plt.legend(['vgg_16', 'vgg_19'], loc='upper left')\n",
    "plt.show()"
   ]
  },
  {
   "cell_type": "markdown",
   "metadata": {},
   "source": [
    "* 검증 정확도를 비교"
   ]
  },
  {
   "cell_type": "code",
   "execution_count": null,
   "metadata": {},
   "outputs": [],
   "source": [
    "plt.plot(history_16.history['val_accuracy'], 'r')\n",
    "plt.plot(history_19.history['val_accuracy'], 'b')\n",
    "plt.title('Model validation accuracy')\n",
    "plt.ylabel('Accuracy')\n",
    "plt.xlabel('Epoch')\n",
    "plt.legend(['vgg_16', 'vgg_19'], loc='upper left')\n",
    "plt.show()"
   ]
  },
  {
   "cell_type": "markdown",
   "metadata": {},
   "source": [
    "## ResNet Ablation Study"
   ]
  },
  {
   "cell_type": "markdown",
   "metadata": {},
   "source": [
    "### 라이브러리 확인"
   ]
  },
  {
   "cell_type": "code",
   "execution_count": 6,
   "metadata": {},
   "outputs": [],
   "source": [
    "import tensorflow as tf\n",
    "import numpy as np"
   ]
  },
  {
   "cell_type": "markdown",
   "metadata": {},
   "source": [
    "### ResNet 기본 블럭 구성하기"
   ]
  },
  {
   "cell_type": "markdown",
   "metadata": {},
   "source": [
    "### ResNet-34"
   ]
  },
  {
   "cell_type": "code",
   "execution_count": 39,
   "metadata": {},
   "outputs": [],
   "source": [
    "def build_resnet_block_1(input_layer,\n",
    "                       num_cnn=3, \n",
    "                       channel=64,\n",
    "                       block_num=1,\n",
    "                       ):\n",
    "    # 입력 레이어\n",
    "    x = input_layer\n",
    "    isInit = 1\n",
    "    \n",
    "    # CNN 레이어 num_cnn만큼 반복\n",
    "    # filter는 위 채널\n",
    "    for cnn_num in range(num_cnn):\n",
    "        \n",
    "        # 처음 값을 Add layer에 넣어줍니다.\n",
    "        # 단 처음 실행될때는 maxpooling을 넣습니다.\n",
    "        addB = x\n",
    "        \n",
    "        # 처음 실행될때만 실행 한다. stage2_0_maxpooling\n",
    "        # 3x3 max pool, stride 2\n",
    "        if isInit == 1:\n",
    "            x = keras.layers.MaxPooling2D(pool_size=(3, 3),\n",
    "                                            strides = 2,\n",
    "                                            padding = 'same',\n",
    "                                            name = f'stage{block_num}_{cnn_num}_maxpooling'\n",
    "                                            )(x)\n",
    "            # Add layer에 넣을 두번째 값\n",
    "            addB = x\n",
    "            \n",
    "        # 첫번째 CNN\n",
    "        x = keras.layers.Conv2D(\n",
    "            filters = channel,\n",
    "            kernel_size=(3,3),\n",
    "            activation='relu',\n",
    "            kernel_initializer='he_normal',\n",
    "            padding='same',\n",
    "            name=f'stage{block_num}_{cnn_num + 1}_conv1'\n",
    "        )(x)\n",
    "        \n",
    "        # 첫번째 BatchNormalization\n",
    "        x = keras.layers.BatchNormalization(\n",
    "            name = f'stage{block_num}_{cnn_num + 1}_bn1'\n",
    "            )(x)\n",
    "        \n",
    "        # 첫번째 Activation 적용\n",
    "        x = keras.layers.Activation('relu')(x)\n",
    "        \n",
    "        # 두번째 CNN\n",
    "        x = keras.layers.Conv2D(\n",
    "            filters = channel,\n",
    "            kernel_size=(3,3),\n",
    "            activation='relu',\n",
    "            kernel_initializer='he_normal',\n",
    "            padding='same',\n",
    "            name=f'stage{block_num}_{cnn_num + 1}_conv2'\n",
    "        )(x)\n",
    "        \n",
    "        # 두번째 BatchNormalization\n",
    "        x = keras.layers.BatchNormalization(\n",
    "            name = f'stage{block_num}_{cnn_num + 1}_bn2'\n",
    "            )(x)\n",
    "        addA = x\n",
    "        \n",
    "        # Add layer\n",
    "        x = keras.layers.Add(\n",
    "            name = f'stage{block_num}_{cnn_num + 1}_add'\n",
    "            )([addA, addB])\n",
    "        \n",
    "        # 두번째 Activation 적용\n",
    "        x = keras.layers.Activation('relu')(x)\n",
    "        \n",
    "        # 실행되었으므로 isInit 값을 바꿔줌\n",
    "        isInit = 0\n",
    "        \n",
    "    return x"
   ]
  },
  {
   "cell_type": "code",
   "execution_count": 40,
   "metadata": {},
   "outputs": [],
   "source": [
    "def build_resnet_block_2(input_layer,\n",
    "                       num_cnn=3, \n",
    "                       channel=64,\n",
    "                       block_num=1,\n",
    "                       ):\n",
    "    # 입력 레이어\n",
    "    x = input_layer\n",
    "    isInit = 1\n",
    "    \n",
    "    # CNN 레이어 num_cnn만큼 반복\n",
    "    # filter는 위 채널\n",
    "    for cnn_num in range(num_cnn):\n",
    "        \n",
    "        # 처음 값을 Add layer에 넣어줍니다.\n",
    "        # 단 처음 실행될때는 short - batchnormalization을 넣습니다.\n",
    "        addB = x\n",
    "        \n",
    "        # 처음 실행될때만 실행 한다\n",
    "        # size를 2배 낮추는 layer - padding 방법을 변경하였다.\n",
    "        if isInit == 1:\n",
    "            x = keras.layers.Conv2D(\n",
    "            filters = channel,\n",
    "            kernel_size=(3,3),\n",
    "            activation='relu',\n",
    "            kernel_initializer='he_normal',\n",
    "            strides = 2,\n",
    "            padding='same',\n",
    "            name=f'stage{block_num}_{cnn_num + 1}_conv1'\n",
    "            )(x)\n",
    "        \n",
    "        # 처음 실행이 아닐 때 통상 Conv2D\n",
    "        else:\n",
    "            x = keras.layers.Conv2D(\n",
    "                filters = channel,\n",
    "                kernel_size=(3,3),\n",
    "                activation='relu',\n",
    "                kernel_initializer='he_normal',\n",
    "                padding='same',\n",
    "                name=f'stage{block_num}_{cnn_num + 1}_conv1'\n",
    "            )(x)\n",
    "        \n",
    "        # 첫번째 BatchNormalization\n",
    "        x = keras.layers.BatchNormalization(\n",
    "            name = f'stage{block_num}_{cnn_num + 1}_bn1'\n",
    "            )(x)\n",
    "        \n",
    "        # 첫번째 Activation 적용\n",
    "        x = keras.layers.Activation('relu')(x)\n",
    "        \n",
    "        # 두번째 CNN\n",
    "        x = keras.layers.Conv2D(\n",
    "            filters = channel,\n",
    "            kernel_size=(3,3),\n",
    "            activation='relu',\n",
    "            kernel_initializer='he_normal',\n",
    "            padding='same',\n",
    "            name=f'stage{block_num}_{cnn_num + 1}_conv2'\n",
    "        )(x)\n",
    "        \n",
    "        # 첫 번째 실행에서\n",
    "        # short layer\n",
    "        if isInit == 1:\n",
    "            addB = keras.layers.Conv2D(\n",
    "            filters = channel,\n",
    "            kernel_size=(1,1),\n",
    "            activation='relu',\n",
    "            kernel_initializer='he_normal',\n",
    "            strides = 2,\n",
    "            padding='same',\n",
    "            name=f'stage{block_num}_{cnn_num + 1}_short'\n",
    "            )(addB)\n",
    "        \n",
    "        # 두번째 BatchNormalization \n",
    "        x = keras.layers.BatchNormalization(\n",
    "            name = f'stage{block_num}_{cnn_num + 1}_bn2'\n",
    "            )(x)\n",
    "        addA = x\n",
    "        \n",
    "        # 첫 번째 실행에서\n",
    "        # short BatchNormalization\n",
    "        if isInit == 1:\n",
    "            addB = keras.layers.BatchNormalization(\n",
    "                name = f'stage{block_num}_{cnn_num + 1}_bn4'\n",
    "                )(addB)\n",
    "        \n",
    "        # Add layer\n",
    "        x = keras.layers.Add(\n",
    "            name = f'stage{block_num}_{cnn_num + 1}_add'\n",
    "            )([addA, addB])\n",
    "        \n",
    "        # 두번째 Activation 적용\n",
    "        x = keras.layers.Activation('relu')(x)\n",
    "        \n",
    "        # 실행되었으므로 isInit 값을 바꿔줌\n",
    "        isInit = 0\n",
    "        \n",
    "    return x"
   ]
  },
  {
   "cell_type": "code",
   "execution_count": 41,
   "metadata": {},
   "outputs": [],
   "source": [
    "def build_resnet(input_shape=(32,32,3),\n",
    "                 num_cnn_list=[3,4,6,3],\n",
    "                 channel_list=[64,128,256,512],\n",
    "                 num_classes=10,\n",
    "                 is_50 = False\n",
    "                 ):\n",
    "    \n",
    "    # 블록마다 cnn과 channel을 설정해주기 때문에\n",
    "    # num_cnn_list의 내부 원소 개수와 channel_list의 내부 원소 개수가 동일해야 합니다.\n",
    "    assert len(num_cnn_list) == len(channel_list)\n",
    "    \n",
    "    # input layer를 만들어둡니다.\n",
    "    input_layer = keras.layers.Input(shape=input_shape, name = 'input_layer')\n",
    "    output = input_layer\n",
    "    \n",
    "    # 첫번째 Conv2D 입니다, (None, 16, 16, 64)로 만듭니다.\n",
    "    # 7x7, 64, stride 2\n",
    "    output = keras.layers.Conv2D(filters=64,\n",
    "                                 kernel_size=(7,7),\n",
    "                                 activation='relu',\n",
    "                                 kernel_initializer='he_normal',\n",
    "                                 padding='same',\n",
    "                                 strides = 2,\n",
    "                                 )(output)\n",
    "    \n",
    "    # BatchNormalization, Activation 을 적용합니다.\n",
    "    output = keras.layers.BatchNormalization()(output)\n",
    "    output = keras.layers.Activation('relu')(output)\n",
    "    \n",
    "    # config list들의 길이만큼 반복해서 블록을 생성합니다.\n",
    "    # block 숫자 시작이 2이므로 i = 0 에서 시작을 i + 2로 만들어줌\n",
    "    is_init_block = 1\n",
    "    for i, (num_cnn, channel) in enumerate(zip(num_cnn_list, channel_list)):\n",
    "        \n",
    "        # 첫번째 블록일때 만 1번 함수를 실행\n",
    "        if is_init_block == 1:\n",
    "            output = build_resnet_block_1(\n",
    "                output,\n",
    "                num_cnn = num_cnn, \n",
    "                channel = channel,\n",
    "                block_num = i + 2\n",
    "            )\n",
    "            # 블록 생성함.\n",
    "            is_init_block = 0\n",
    "        else:\n",
    "            output = build_resnet_block_2(\n",
    "                output,\n",
    "                num_cnn = num_cnn, \n",
    "                channel = channel,\n",
    "                block_num = i + 2\n",
    "            )\n",
    "            \n",
    "    # Dense layer에 넣어주기 위해 flatten 합니다.\n",
    "    output = keras.layers.Flatten(name='flatten')(output)\n",
    "    # 10개의 label 값에 대한 확률을 나타내기 위해 softmax 활성화 함수를 적용합니다.\n",
    "    output = keras.layers.Dense(num_classes, activation='softmax', name='predictions')(output)\n",
    "    \n",
    "    model = keras.Model(\n",
    "        inputs=input_layer, \n",
    "        outputs=output\n",
    "    )\n",
    "    \n",
    "    return model"
   ]
  },
  {
   "cell_type": "code",
   "execution_count": 42,
   "metadata": {},
   "outputs": [
    {
     "name": "stdout",
     "output_type": "stream",
     "text": [
      "Model: \"model_7\"\n",
      "__________________________________________________________________________________________________\n",
      " Layer (type)                   Output Shape         Param #     Connected to                     \n",
      "==================================================================================================\n",
      " input_layer (InputLayer)       [(None, 32, 32, 3)]  0           []                               \n",
      "                                                                                                  \n",
      " conv2d_11 (Conv2D)             (None, 16, 16, 64)   9472        ['input_layer[0][0]']            \n",
      "                                                                                                  \n",
      " batch_normalization_11 (BatchN  (None, 16, 16, 64)  256         ['conv2d_11[0][0]']              \n",
      " ormalization)                                                                                    \n",
      "                                                                                                  \n",
      " activation_113 (Activation)    (None, 16, 16, 64)   0           ['batch_normalization_11[0][0]'] \n",
      "                                                                                                  \n",
      " stage2_0_maxpooling (MaxPoolin  (None, 8, 8, 64)    0           ['activation_113[0][0]']         \n",
      " g2D)                                                                                             \n",
      "                                                                                                  \n",
      " stage2_1_conv1 (Conv2D)        (None, 8, 8, 64)     36928       ['stage2_0_maxpooling[0][0]']    \n",
      "                                                                                                  \n",
      " stage2_1_bn1 (BatchNormalizati  (None, 8, 8, 64)    256         ['stage2_1_conv1[0][0]']         \n",
      " on)                                                                                              \n",
      "                                                                                                  \n",
      " activation_114 (Activation)    (None, 8, 8, 64)     0           ['stage2_1_bn1[0][0]']           \n",
      "                                                                                                  \n",
      " stage2_1_conv2 (Conv2D)        (None, 8, 8, 64)     36928       ['activation_114[0][0]']         \n",
      "                                                                                                  \n",
      " stage2_1_bn2 (BatchNormalizati  (None, 8, 8, 64)    256         ['stage2_1_conv2[0][0]']         \n",
      " on)                                                                                              \n",
      "                                                                                                  \n",
      " stage2_1_add (Add)             (None, 8, 8, 64)     0           ['stage2_1_bn2[0][0]',           \n",
      "                                                                  'stage2_0_maxpooling[0][0]']    \n",
      "                                                                                                  \n",
      " activation_115 (Activation)    (None, 8, 8, 64)     0           ['stage2_1_add[0][0]']           \n",
      "                                                                                                  \n",
      " stage2_2_conv1 (Conv2D)        (None, 8, 8, 64)     36928       ['activation_115[0][0]']         \n",
      "                                                                                                  \n",
      " stage2_2_bn1 (BatchNormalizati  (None, 8, 8, 64)    256         ['stage2_2_conv1[0][0]']         \n",
      " on)                                                                                              \n",
      "                                                                                                  \n",
      " activation_116 (Activation)    (None, 8, 8, 64)     0           ['stage2_2_bn1[0][0]']           \n",
      "                                                                                                  \n",
      " stage2_2_conv2 (Conv2D)        (None, 8, 8, 64)     36928       ['activation_116[0][0]']         \n",
      "                                                                                                  \n",
      " stage2_2_bn2 (BatchNormalizati  (None, 8, 8, 64)    256         ['stage2_2_conv2[0][0]']         \n",
      " on)                                                                                              \n",
      "                                                                                                  \n",
      " stage2_2_add (Add)             (None, 8, 8, 64)     0           ['stage2_2_bn2[0][0]',           \n",
      "                                                                  'activation_115[0][0]']         \n",
      "                                                                                                  \n",
      " activation_117 (Activation)    (None, 8, 8, 64)     0           ['stage2_2_add[0][0]']           \n",
      "                                                                                                  \n",
      " stage2_3_conv1 (Conv2D)        (None, 8, 8, 64)     36928       ['activation_117[0][0]']         \n",
      "                                                                                                  \n",
      " stage2_3_bn1 (BatchNormalizati  (None, 8, 8, 64)    256         ['stage2_3_conv1[0][0]']         \n",
      " on)                                                                                              \n",
      "                                                                                                  \n",
      " activation_118 (Activation)    (None, 8, 8, 64)     0           ['stage2_3_bn1[0][0]']           \n",
      "                                                                                                  \n",
      " stage2_3_conv2 (Conv2D)        (None, 8, 8, 64)     36928       ['activation_118[0][0]']         \n",
      "                                                                                                  \n",
      " stage2_3_bn2 (BatchNormalizati  (None, 8, 8, 64)    256         ['stage2_3_conv2[0][0]']         \n",
      " on)                                                                                              \n",
      "                                                                                                  \n",
      " stage2_3_add (Add)             (None, 8, 8, 64)     0           ['stage2_3_bn2[0][0]',           \n",
      "                                                                  'activation_117[0][0]']         \n",
      "                                                                                                  \n",
      " activation_119 (Activation)    (None, 8, 8, 64)     0           ['stage2_3_add[0][0]']           \n",
      "                                                                                                  \n",
      " stage3_1_conv1 (Conv2D)        (None, 4, 4, 128)    73856       ['activation_119[0][0]']         \n",
      "                                                                                                  \n",
      " stage3_1_bn1 (BatchNormalizati  (None, 4, 4, 128)   512         ['stage3_1_conv1[0][0]']         \n",
      " on)                                                                                              \n",
      "                                                                                                  \n",
      " activation_120 (Activation)    (None, 4, 4, 128)    0           ['stage3_1_bn1[0][0]']           \n",
      "                                                                                                  \n",
      " stage3_1_conv2 (Conv2D)        (None, 4, 4, 128)    147584      ['activation_120[0][0]']         \n",
      "                                                                                                  \n",
      " stage3_1_short (Conv2D)        (None, 4, 4, 128)    8320        ['activation_119[0][0]']         \n",
      "                                                                                                  \n",
      " stage3_1_bn2 (BatchNormalizati  (None, 4, 4, 128)   512         ['stage3_1_conv2[0][0]']         \n",
      " on)                                                                                              \n",
      "                                                                                                  \n",
      " stage3_1_bn4 (BatchNormalizati  (None, 4, 4, 128)   512         ['stage3_1_short[0][0]']         \n",
      " on)                                                                                              \n",
      "                                                                                                  \n",
      " stage3_1_add (Add)             (None, 4, 4, 128)    0           ['stage3_1_bn2[0][0]',           \n",
      "                                                                  'stage3_1_bn4[0][0]']           \n",
      "                                                                                                  \n",
      " activation_121 (Activation)    (None, 4, 4, 128)    0           ['stage3_1_add[0][0]']           \n",
      "                                                                                                  \n",
      " stage3_2_conv1 (Conv2D)        (None, 4, 4, 128)    147584      ['activation_121[0][0]']         \n",
      "                                                                                                  \n",
      " stage3_2_bn1 (BatchNormalizati  (None, 4, 4, 128)   512         ['stage3_2_conv1[0][0]']         \n",
      " on)                                                                                              \n",
      "                                                                                                  \n",
      " activation_122 (Activation)    (None, 4, 4, 128)    0           ['stage3_2_bn1[0][0]']           \n",
      "                                                                                                  \n",
      " stage3_2_conv2 (Conv2D)        (None, 4, 4, 128)    147584      ['activation_122[0][0]']         \n",
      "                                                                                                  \n",
      " stage3_2_bn2 (BatchNormalizati  (None, 4, 4, 128)   512         ['stage3_2_conv2[0][0]']         \n",
      " on)                                                                                              \n",
      "                                                                                                  \n",
      " stage3_2_add (Add)             (None, 4, 4, 128)    0           ['stage3_2_bn2[0][0]',           \n",
      "                                                                  'activation_121[0][0]']         \n",
      "                                                                                                  \n",
      " activation_123 (Activation)    (None, 4, 4, 128)    0           ['stage3_2_add[0][0]']           \n",
      "                                                                                                  \n",
      " stage3_3_conv1 (Conv2D)        (None, 4, 4, 128)    147584      ['activation_123[0][0]']         \n",
      "                                                                                                  \n",
      " stage3_3_bn1 (BatchNormalizati  (None, 4, 4, 128)   512         ['stage3_3_conv1[0][0]']         \n",
      " on)                                                                                              \n",
      "                                                                                                  \n",
      " activation_124 (Activation)    (None, 4, 4, 128)    0           ['stage3_3_bn1[0][0]']           \n",
      "                                                                                                  \n",
      " stage3_3_conv2 (Conv2D)        (None, 4, 4, 128)    147584      ['activation_124[0][0]']         \n",
      "                                                                                                  \n",
      " stage3_3_bn2 (BatchNormalizati  (None, 4, 4, 128)   512         ['stage3_3_conv2[0][0]']         \n",
      " on)                                                                                              \n",
      "                                                                                                  \n",
      " stage3_3_add (Add)             (None, 4, 4, 128)    0           ['stage3_3_bn2[0][0]',           \n",
      "                                                                  'activation_123[0][0]']         \n",
      "                                                                                                  \n",
      " activation_125 (Activation)    (None, 4, 4, 128)    0           ['stage3_3_add[0][0]']           \n",
      "                                                                                                  \n",
      " stage3_4_conv1 (Conv2D)        (None, 4, 4, 128)    147584      ['activation_125[0][0]']         \n",
      "                                                                                                  \n",
      " stage3_4_bn1 (BatchNormalizati  (None, 4, 4, 128)   512         ['stage3_4_conv1[0][0]']         \n",
      " on)                                                                                              \n",
      "                                                                                                  \n",
      " activation_126 (Activation)    (None, 4, 4, 128)    0           ['stage3_4_bn1[0][0]']           \n",
      "                                                                                                  \n",
      " stage3_4_conv2 (Conv2D)        (None, 4, 4, 128)    147584      ['activation_126[0][0]']         \n",
      "                                                                                                  \n",
      " stage3_4_bn2 (BatchNormalizati  (None, 4, 4, 128)   512         ['stage3_4_conv2[0][0]']         \n",
      " on)                                                                                              \n",
      "                                                                                                  \n",
      " stage3_4_add (Add)             (None, 4, 4, 128)    0           ['stage3_4_bn2[0][0]',           \n",
      "                                                                  'activation_125[0][0]']         \n",
      "                                                                                                  \n",
      " activation_127 (Activation)    (None, 4, 4, 128)    0           ['stage3_4_add[0][0]']           \n",
      "                                                                                                  \n",
      " stage4_1_conv1 (Conv2D)        (None, 2, 2, 256)    295168      ['activation_127[0][0]']         \n",
      "                                                                                                  \n",
      " stage4_1_bn1 (BatchNormalizati  (None, 2, 2, 256)   1024        ['stage4_1_conv1[0][0]']         \n",
      " on)                                                                                              \n",
      "                                                                                                  \n",
      " activation_128 (Activation)    (None, 2, 2, 256)    0           ['stage4_1_bn1[0][0]']           \n",
      "                                                                                                  \n",
      " stage4_1_conv2 (Conv2D)        (None, 2, 2, 256)    590080      ['activation_128[0][0]']         \n",
      "                                                                                                  \n",
      " stage4_1_short (Conv2D)        (None, 2, 2, 256)    33024       ['activation_127[0][0]']         \n",
      "                                                                                                  \n",
      " stage4_1_bn2 (BatchNormalizati  (None, 2, 2, 256)   1024        ['stage4_1_conv2[0][0]']         \n",
      " on)                                                                                              \n",
      "                                                                                                  \n",
      " stage4_1_bn4 (BatchNormalizati  (None, 2, 2, 256)   1024        ['stage4_1_short[0][0]']         \n",
      " on)                                                                                              \n",
      "                                                                                                  \n",
      " stage4_1_add (Add)             (None, 2, 2, 256)    0           ['stage4_1_bn2[0][0]',           \n",
      "                                                                  'stage4_1_bn4[0][0]']           \n",
      "                                                                                                  \n",
      " activation_129 (Activation)    (None, 2, 2, 256)    0           ['stage4_1_add[0][0]']           \n",
      "                                                                                                  \n",
      " stage4_2_conv1 (Conv2D)        (None, 2, 2, 256)    590080      ['activation_129[0][0]']         \n",
      "                                                                                                  \n",
      " stage4_2_bn1 (BatchNormalizati  (None, 2, 2, 256)   1024        ['stage4_2_conv1[0][0]']         \n",
      " on)                                                                                              \n",
      "                                                                                                  \n",
      " activation_130 (Activation)    (None, 2, 2, 256)    0           ['stage4_2_bn1[0][0]']           \n",
      "                                                                                                  \n",
      " stage4_2_conv2 (Conv2D)        (None, 2, 2, 256)    590080      ['activation_130[0][0]']         \n",
      "                                                                                                  \n",
      " stage4_2_bn2 (BatchNormalizati  (None, 2, 2, 256)   1024        ['stage4_2_conv2[0][0]']         \n",
      " on)                                                                                              \n",
      "                                                                                                  \n",
      " stage4_2_add (Add)             (None, 2, 2, 256)    0           ['stage4_2_bn2[0][0]',           \n",
      "                                                                  'activation_129[0][0]']         \n",
      "                                                                                                  \n",
      " activation_131 (Activation)    (None, 2, 2, 256)    0           ['stage4_2_add[0][0]']           \n",
      "                                                                                                  \n",
      " stage4_3_conv1 (Conv2D)        (None, 2, 2, 256)    590080      ['activation_131[0][0]']         \n",
      "                                                                                                  \n",
      " stage4_3_bn1 (BatchNormalizati  (None, 2, 2, 256)   1024        ['stage4_3_conv1[0][0]']         \n",
      " on)                                                                                              \n",
      "                                                                                                  \n",
      " activation_132 (Activation)    (None, 2, 2, 256)    0           ['stage4_3_bn1[0][0]']           \n",
      "                                                                                                  \n",
      " stage4_3_conv2 (Conv2D)        (None, 2, 2, 256)    590080      ['activation_132[0][0]']         \n",
      "                                                                                                  \n",
      " stage4_3_bn2 (BatchNormalizati  (None, 2, 2, 256)   1024        ['stage4_3_conv2[0][0]']         \n",
      " on)                                                                                              \n",
      "                                                                                                  \n",
      " stage4_3_add (Add)             (None, 2, 2, 256)    0           ['stage4_3_bn2[0][0]',           \n",
      "                                                                  'activation_131[0][0]']         \n",
      "                                                                                                  \n",
      " activation_133 (Activation)    (None, 2, 2, 256)    0           ['stage4_3_add[0][0]']           \n",
      "                                                                                                  \n",
      " stage4_4_conv1 (Conv2D)        (None, 2, 2, 256)    590080      ['activation_133[0][0]']         \n",
      "                                                                                                  \n",
      " stage4_4_bn1 (BatchNormalizati  (None, 2, 2, 256)   1024        ['stage4_4_conv1[0][0]']         \n",
      " on)                                                                                              \n",
      "                                                                                                  \n",
      " activation_134 (Activation)    (None, 2, 2, 256)    0           ['stage4_4_bn1[0][0]']           \n",
      "                                                                                                  \n",
      " stage4_4_conv2 (Conv2D)        (None, 2, 2, 256)    590080      ['activation_134[0][0]']         \n",
      "                                                                                                  \n",
      " stage4_4_bn2 (BatchNormalizati  (None, 2, 2, 256)   1024        ['stage4_4_conv2[0][0]']         \n",
      " on)                                                                                              \n",
      "                                                                                                  \n",
      " stage4_4_add (Add)             (None, 2, 2, 256)    0           ['stage4_4_bn2[0][0]',           \n",
      "                                                                  'activation_133[0][0]']         \n",
      "                                                                                                  \n",
      " activation_135 (Activation)    (None, 2, 2, 256)    0           ['stage4_4_add[0][0]']           \n",
      "                                                                                                  \n",
      " stage4_5_conv1 (Conv2D)        (None, 2, 2, 256)    590080      ['activation_135[0][0]']         \n",
      "                                                                                                  \n",
      " stage4_5_bn1 (BatchNormalizati  (None, 2, 2, 256)   1024        ['stage4_5_conv1[0][0]']         \n",
      " on)                                                                                              \n",
      "                                                                                                  \n",
      " activation_136 (Activation)    (None, 2, 2, 256)    0           ['stage4_5_bn1[0][0]']           \n",
      "                                                                                                  \n",
      " stage4_5_conv2 (Conv2D)        (None, 2, 2, 256)    590080      ['activation_136[0][0]']         \n",
      "                                                                                                  \n",
      " stage4_5_bn2 (BatchNormalizati  (None, 2, 2, 256)   1024        ['stage4_5_conv2[0][0]']         \n",
      " on)                                                                                              \n",
      "                                                                                                  \n",
      " stage4_5_add (Add)             (None, 2, 2, 256)    0           ['stage4_5_bn2[0][0]',           \n",
      "                                                                  'activation_135[0][0]']         \n",
      "                                                                                                  \n",
      " activation_137 (Activation)    (None, 2, 2, 256)    0           ['stage4_5_add[0][0]']           \n",
      "                                                                                                  \n",
      " stage4_6_conv1 (Conv2D)        (None, 2, 2, 256)    590080      ['activation_137[0][0]']         \n",
      "                                                                                                  \n",
      " stage4_6_bn1 (BatchNormalizati  (None, 2, 2, 256)   1024        ['stage4_6_conv1[0][0]']         \n",
      " on)                                                                                              \n",
      "                                                                                                  \n",
      " activation_138 (Activation)    (None, 2, 2, 256)    0           ['stage4_6_bn1[0][0]']           \n",
      "                                                                                                  \n",
      " stage4_6_conv2 (Conv2D)        (None, 2, 2, 256)    590080      ['activation_138[0][0]']         \n",
      "                                                                                                  \n",
      " stage4_6_bn2 (BatchNormalizati  (None, 2, 2, 256)   1024        ['stage4_6_conv2[0][0]']         \n",
      " on)                                                                                              \n",
      "                                                                                                  \n",
      " stage4_6_add (Add)             (None, 2, 2, 256)    0           ['stage4_6_bn2[0][0]',           \n",
      "                                                                  'activation_137[0][0]']         \n",
      "                                                                                                  \n",
      " activation_139 (Activation)    (None, 2, 2, 256)    0           ['stage4_6_add[0][0]']           \n",
      "                                                                                                  \n",
      " stage5_1_conv1 (Conv2D)        (None, 1, 1, 512)    1180160     ['activation_139[0][0]']         \n",
      "                                                                                                  \n",
      " stage5_1_bn1 (BatchNormalizati  (None, 1, 1, 512)   2048        ['stage5_1_conv1[0][0]']         \n",
      " on)                                                                                              \n",
      "                                                                                                  \n",
      " activation_140 (Activation)    (None, 1, 1, 512)    0           ['stage5_1_bn1[0][0]']           \n",
      "                                                                                                  \n",
      " stage5_1_conv2 (Conv2D)        (None, 1, 1, 512)    2359808     ['activation_140[0][0]']         \n",
      "                                                                                                  \n",
      " stage5_1_short (Conv2D)        (None, 1, 1, 512)    131584      ['activation_139[0][0]']         \n",
      "                                                                                                  \n",
      " stage5_1_bn2 (BatchNormalizati  (None, 1, 1, 512)   2048        ['stage5_1_conv2[0][0]']         \n",
      " on)                                                                                              \n",
      "                                                                                                  \n",
      " stage5_1_bn4 (BatchNormalizati  (None, 1, 1, 512)   2048        ['stage5_1_short[0][0]']         \n",
      " on)                                                                                              \n",
      "                                                                                                  \n",
      " stage5_1_add (Add)             (None, 1, 1, 512)    0           ['stage5_1_bn2[0][0]',           \n",
      "                                                                  'stage5_1_bn4[0][0]']           \n",
      "                                                                                                  \n",
      " activation_141 (Activation)    (None, 1, 1, 512)    0           ['stage5_1_add[0][0]']           \n",
      "                                                                                                  \n",
      " stage5_2_conv1 (Conv2D)        (None, 1, 1, 512)    2359808     ['activation_141[0][0]']         \n",
      "                                                                                                  \n",
      " stage5_2_bn1 (BatchNormalizati  (None, 1, 1, 512)   2048        ['stage5_2_conv1[0][0]']         \n",
      " on)                                                                                              \n",
      "                                                                                                  \n",
      " activation_142 (Activation)    (None, 1, 1, 512)    0           ['stage5_2_bn1[0][0]']           \n",
      "                                                                                                  \n",
      " stage5_2_conv2 (Conv2D)        (None, 1, 1, 512)    2359808     ['activation_142[0][0]']         \n",
      "                                                                                                  \n",
      " stage5_2_bn2 (BatchNormalizati  (None, 1, 1, 512)   2048        ['stage5_2_conv2[0][0]']         \n",
      " on)                                                                                              \n",
      "                                                                                                  \n",
      " stage5_2_add (Add)             (None, 1, 1, 512)    0           ['stage5_2_bn2[0][0]',           \n",
      "                                                                  'activation_141[0][0]']         \n",
      "                                                                                                  \n",
      " activation_143 (Activation)    (None, 1, 1, 512)    0           ['stage5_2_add[0][0]']           \n",
      "                                                                                                  \n",
      " stage5_3_conv1 (Conv2D)        (None, 1, 1, 512)    2359808     ['activation_143[0][0]']         \n",
      "                                                                                                  \n",
      " stage5_3_bn1 (BatchNormalizati  (None, 1, 1, 512)   2048        ['stage5_3_conv1[0][0]']         \n",
      " on)                                                                                              \n",
      "                                                                                                  \n",
      " activation_144 (Activation)    (None, 1, 1, 512)    0           ['stage5_3_bn1[0][0]']           \n",
      "                                                                                                  \n",
      " stage5_3_conv2 (Conv2D)        (None, 1, 1, 512)    2359808     ['activation_144[0][0]']         \n",
      "                                                                                                  \n",
      " stage5_3_bn2 (BatchNormalizati  (None, 1, 1, 512)   2048        ['stage5_3_conv2[0][0]']         \n",
      " on)                                                                                              \n",
      "                                                                                                  \n",
      " stage5_3_add (Add)             (None, 1, 1, 512)    0           ['stage5_3_bn2[0][0]',           \n",
      "                                                                  'activation_143[0][0]']         \n",
      "                                                                                                  \n",
      " activation_145 (Activation)    (None, 1, 1, 512)    0           ['stage5_3_add[0][0]']           \n",
      "                                                                                                  \n",
      " flatten (Flatten)              (None, 512)          0           ['activation_145[0][0]']         \n",
      "                                                                                                  \n",
      " fc1 (Dense)                    (None, 4096)         2101248     ['flatten[0][0]']                \n",
      "                                                                                                  \n",
      " fc2 (Dense)                    (None, 4096)         16781312    ['fc1[0][0]']                    \n",
      "                                                                                                  \n",
      " predictions (Dense)            (None, 10)           40970       ['fc2[0][0]']                    \n",
      "                                                                                                  \n",
      "==================================================================================================\n",
      "Total params: 40,233,738\n",
      "Trainable params: 40,216,714\n",
      "Non-trainable params: 17,024\n",
      "__________________________________________________________________________________________________\n"
     ]
    }
   ],
   "source": [
    "resnet_34 = build_resnet(input_shape=(32, 32,3), is_50=False)\n",
    "resnet_34.summary()"
   ]
  },
  {
   "cell_type": "code",
   "execution_count": null,
   "metadata": {},
   "outputs": [],
   "source": []
  }
 ],
 "metadata": {
  "kernelspec": {
   "display_name": "Python 3.10.4 ('tensorflow': venv)",
   "language": "python",
   "name": "python3"
  },
  "language_info": {
   "codemirror_mode": {
    "name": "ipython",
    "version": 3
   },
   "file_extension": ".py",
   "mimetype": "text/x-python",
   "name": "python",
   "nbconvert_exporter": "python",
   "pygments_lexer": "ipython3",
   "version": "3.10.4"
  },
  "orig_nbformat": 4,
  "vscode": {
   "interpreter": {
    "hash": "d3d548dbc07dac0e24bbfeb6e932dc9e9a9d93b0bdd3d2fd0655f4be29fd0580"
   }
  }
 },
 "nbformat": 4,
 "nbformat_minor": 2
}

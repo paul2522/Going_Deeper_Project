{
 "cells": [
  {
   "cell_type": "markdown",
   "metadata": {},
   "source": [
    "# [GD]CutMix_Mixup"
   ]
  },
  {
   "cell_type": "markdown",
   "metadata": {},
   "source": [
    "## 라이브러리 확인"
   ]
  },
  {
   "cell_type": "code",
   "execution_count": 1,
   "metadata": {},
   "outputs": [],
   "source": [
    "import tensorflow as tf\n",
    "from tensorflow import keras\n",
    "import numpy as np\n",
    "import matplotlib.pyplot as plt\n",
    "import tensorflow_datasets as tfds"
   ]
  },
  {
   "cell_type": "markdown",
   "metadata": {},
   "source": [
    "* GPU 확인"
   ]
  },
  {
   "cell_type": "code",
   "execution_count": 2,
   "metadata": {},
   "outputs": [
    {
     "name": "stderr",
     "output_type": "stream",
     "text": [
      "2022-10-05 19:00:58.333026: I tensorflow/stream_executor/cuda/cuda_gpu_executor.cc:975] successful NUMA node read from SysFS had negative value (-1), but there must be at least one NUMA node, so returning NUMA node zero\n",
      "2022-10-05 19:00:58.409876: I tensorflow/stream_executor/cuda/cuda_gpu_executor.cc:975] successful NUMA node read from SysFS had negative value (-1), but there must be at least one NUMA node, so returning NUMA node zero\n",
      "2022-10-05 19:00:58.410038: I tensorflow/stream_executor/cuda/cuda_gpu_executor.cc:975] successful NUMA node read from SysFS had negative value (-1), but there must be at least one NUMA node, so returning NUMA node zero\n"
     ]
    },
    {
     "data": {
      "text/plain": [
       "[PhysicalDevice(name='/physical_device:GPU:0', device_type='GPU')]"
      ]
     },
     "execution_count": 2,
     "metadata": {},
     "output_type": "execute_result"
    }
   ],
   "source": [
    "tf.config.list_physical_devices('GPU')"
   ]
  },
  {
   "cell_type": "markdown",
   "metadata": {},
   "source": [
    "## 1. Augmentation을 적용한 데이터셋 만들기"
   ]
  },
  {
   "cell_type": "markdown",
   "metadata": {},
   "source": [
    "### Dataset 불러오기"
   ]
  },
  {
   "cell_type": "code",
   "execution_count": 3,
   "metadata": {},
   "outputs": [
    {
     "name": "stderr",
     "output_type": "stream",
     "text": [
      "2022-10-05 19:00:58.478343: I tensorflow/core/platform/cpu_feature_guard.cc:193] This TensorFlow binary is optimized with oneAPI Deep Neural Network Library (oneDNN) to use the following CPU instructions in performance-critical operations:  AVX2 FMA\n",
      "To enable them in other operations, rebuild TensorFlow with the appropriate compiler flags.\n",
      "2022-10-05 19:00:58.480327: I tensorflow/stream_executor/cuda/cuda_gpu_executor.cc:975] successful NUMA node read from SysFS had negative value (-1), but there must be at least one NUMA node, so returning NUMA node zero\n",
      "2022-10-05 19:00:58.480666: I tensorflow/stream_executor/cuda/cuda_gpu_executor.cc:975] successful NUMA node read from SysFS had negative value (-1), but there must be at least one NUMA node, so returning NUMA node zero\n",
      "2022-10-05 19:00:58.480788: I tensorflow/stream_executor/cuda/cuda_gpu_executor.cc:975] successful NUMA node read from SysFS had negative value (-1), but there must be at least one NUMA node, so returning NUMA node zero\n",
      "2022-10-05 19:00:59.175708: I tensorflow/stream_executor/cuda/cuda_gpu_executor.cc:975] successful NUMA node read from SysFS had negative value (-1), but there must be at least one NUMA node, so returning NUMA node zero\n",
      "2022-10-05 19:00:59.175903: I tensorflow/stream_executor/cuda/cuda_gpu_executor.cc:975] successful NUMA node read from SysFS had negative value (-1), but there must be at least one NUMA node, so returning NUMA node zero\n",
      "2022-10-05 19:00:59.176017: I tensorflow/stream_executor/cuda/cuda_gpu_executor.cc:975] successful NUMA node read from SysFS had negative value (-1), but there must be at least one NUMA node, so returning NUMA node zero\n",
      "2022-10-05 19:00:59.176114: I tensorflow/core/common_runtime/gpu/gpu_device.cc:1532] Created device /job:localhost/replica:0/task:0/device:GPU:0 with 6668 MB memory:  -> device: 0, name: NVIDIA GeForce RTX 2070, pci bus id: 0000:01:00.0, compute capability: 7.5\n"
     ]
    }
   ],
   "source": [
    "(ds_train, ds_test), ds_info = tfds.load(\n",
    "    'stanford_dogs',\n",
    "    split=['train', 'test'],\n",
    "    shuffle_files=True,\n",
    "    as_supervised=True,\n",
    "    with_info=True,\n",
    ")"
   ]
  },
  {
   "cell_type": "markdown",
   "metadata": {},
   "source": [
    "* 우리가 사용할 데이터셋의 class의 개수를 구합니다."
   ]
  },
  {
   "cell_type": "code",
   "execution_count": 4,
   "metadata": {},
   "outputs": [],
   "source": [
    "num_classes = ds_info.features[\"label\"].num_classes"
   ]
  },
  {
   "cell_type": "markdown",
   "metadata": {},
   "source": [
    "### CutMix"
   ]
  },
  {
   "cell_type": "markdown",
   "metadata": {},
   "source": [
    "* Get clipbox"
   ]
  },
  {
   "cell_type": "code",
   "execution_count": 5,
   "metadata": {},
   "outputs": [],
   "source": [
    "def get_clip_box(image_a, image_b):\n",
    "    # image.shape = (height, width, channel)\n",
    "    image_size_x = image_a.shape[1]\n",
    "    image_size_y = image_a.shape[0]\n",
    "    \n",
    "    # get center of box\n",
    "    x = tf.cast(tf.random.uniform([], 0, image_size_x), tf.int32)\n",
    "    y = tf.cast(tf.random.uniform([], 0, image_size_y), tf.int32)\n",
    "    \n",
    "    # get width, height of box\n",
    "    width = tf.cast(image_size_x*tf.math.sqrt(1-tf.random.uniform([], 0, 1)), tf.int32)\n",
    "    height = tf.cast(image_size_y*tf.math.sqrt(1-tf.random.uniform([], 0, 1)), tf.int32)\n",
    "    \n",
    "    # clip box in image and get minmax bbox\n",
    "    x_min = tf.math.maximum(0, x-width//2)\n",
    "    y_min = tf.math.maximum(0, y-height//2)\n",
    "    x_max = tf.math.minimum(image_size_x, x+width//2)\n",
    "    y_max = tf.math.minimum(image_size_y, y+width//2)\n",
    "    \n",
    "    return x_min, y_min, x_max, y_max"
   ]
  },
  {
   "cell_type": "markdown",
   "metadata": {},
   "source": [
    "* Mix 2 images"
   ]
  },
  {
   "cell_type": "code",
   "execution_count": 6,
   "metadata": {},
   "outputs": [],
   "source": [
    "# mix two images\n",
    "def mix_2_images(image_a, image_b, x_min, y_min, x_max, y_max):\n",
    "    image_size_x = image_a.shape[1] \n",
    "    image_size_y = image_a.shape[0] \n",
    "    middle_left = image_a[y_min:y_max, 0:x_min, :] # image_b의 왼쪽 바깥 영역\n",
    "    middle_center = image_b[y_min:y_max, x_min:x_max, :]  # image_b의 안쪽 영역\n",
    "    middle_right = image_a[y_min:y_max, x_max:image_size_x, :] # image_b의 오른쪽 바깥 영역\n",
    "    middle = tf.concat([middle_left,middle_center,middle_right], axis=1)\n",
    "    top = image_a[0:y_min, :, :]\n",
    "    bottom = image_a[y_max:image_size_y, :, :]\n",
    "    mixed_img = tf.concat([top, middle, bottom],axis=0)\n",
    "    \n",
    "    return mixed_img"
   ]
  },
  {
   "cell_type": "markdown",
   "metadata": {},
   "source": [
    "* Mix 2 labels"
   ]
  },
  {
   "cell_type": "code",
   "execution_count": 7,
   "metadata": {},
   "outputs": [],
   "source": [
    "# mix two labels\n",
    "def mix_2_labels(image_a, label_a, label_b, x_min, y_min, x_max, y_max, num_classes=120):\n",
    "    image_size_x = image_a.shape[1]\n",
    "    image_size_y = image_a.shape[0] \n",
    "    mixed_area = (x_max-x_min)*(y_max-y_min)\n",
    "    total_area = image_size_x*image_size_y\n",
    "    ratio = tf.cast(mixed_area/total_area, tf.float32)\n",
    "    \n",
    "    if len(label_a.shape)==0:\n",
    "        label_a = tf.one_hot(label_a, num_classes)\n",
    "    \n",
    "    if len(label_b.shape)==0:\n",
    "        label_b = tf.one_hot(label_b, num_classes)\n",
    "    \n",
    "    mixed_label = (1-ratio)*label_a + ratio*label_b\n",
    "    \n",
    "    return mixed_label"
   ]
  },
  {
   "cell_type": "markdown",
   "metadata": {},
   "source": [
    "* CutMix 함수"
   ]
  },
  {
   "cell_type": "code",
   "execution_count": 8,
   "metadata": {},
   "outputs": [],
   "source": [
    "def cutmix(image, label, prob=1.0, batch_size=16, img_size=224, num_classes=120):\n",
    "    mixed_imgs = []\n",
    "    mixed_labels = []\n",
    "    \n",
    "    for i in range(batch_size):\n",
    "        image_a = image[i]\n",
    "        label_a = label[i]\n",
    "        j = tf.cast(tf.random.uniform([],0, batch_size),tf.int32)\n",
    "        image_b = image[j]\n",
    "        label_b = label[j]\n",
    "        x_min, y_min, x_max, y_max = get_clip_box(image_a, image_b)\n",
    "        mixed_imgs.append(mix_2_images(image_a, image_b, x_min, y_min, x_max, y_max))\n",
    "        mixed_labels.append(mix_2_labels(image_a, label_a, label_b, x_min, y_min, x_max, y_max))\n",
    "\n",
    "    mixed_imgs = tf.reshape(tf.stack(mixed_imgs), (batch_size, img_size, img_size, 3))\n",
    "    mixed_labels = tf.reshape(tf.stack(mixed_labels), (batch_size, num_classes))\n",
    "    return mixed_imgs, mixed_labels"
   ]
  },
  {
   "cell_type": "markdown",
   "metadata": {},
   "source": [
    "### MixUp"
   ]
  },
  {
   "cell_type": "markdown",
   "metadata": {},
   "source": [
    "* Mix up 2 images"
   ]
  },
  {
   "cell_type": "code",
   "execution_count": 9,
   "metadata": {},
   "outputs": [],
   "source": [
    "def mixup_2_images(image_a, image_b, label_a, label_b):\n",
    "    ratio = tf.random.uniform([], 0, 1)\n",
    "    \n",
    "    if len(label_a.shape)==0:\n",
    "        label_a = tf.one_hot(label_a, num_classes)\n",
    "        \n",
    "    if len(label_b.shape)==0:\n",
    "        label_b = tf.one_hot(label_b, num_classes)\n",
    "        \n",
    "    mixed_image= (1-ratio)*image_a + ratio*image_b\n",
    "    mixed_label = (1-ratio)*label_a + ratio*label_b\n",
    "    \n",
    "    return mixed_image, mixed_label"
   ]
  },
  {
   "cell_type": "markdown",
   "metadata": {},
   "source": [
    "* MixUp 함수"
   ]
  },
  {
   "cell_type": "code",
   "execution_count": 10,
   "metadata": {},
   "outputs": [],
   "source": [
    "def mixup(image, label, prob=1.0, batch_size=16, img_size=224, num_classes=120):\n",
    "    mixed_imgs = []\n",
    "    mixed_labels = []\n",
    "    \n",
    "    for i in range(batch_size):\n",
    "        image_a = image[i]\n",
    "        label_a = label[i]\n",
    "        j = tf.cast(tf.random.uniform([],0,batch_size), tf.int32)\n",
    "        image_b = image[j]\n",
    "        label_b = label[j]\n",
    "        mixed_img, mixed_label = mixup_2_images(image_a, image_b, label_a, label_b)\n",
    "        mixed_imgs.append(mixed_img)\n",
    "        mixed_labels.append(mixed_label)\n",
    "        \n",
    "    mixed_imgs = tf.reshape(tf.stack(mixed_imgs), (batch_size, img_size, img_size, 3))\n",
    "    mixed_labels = tf.reshape(tf.stack(mixed_labels), (batch_size, num_classes))\n",
    "    return mixed_imgs, mixed_labels"
   ]
  },
  {
   "cell_type": "markdown",
   "metadata": {},
   "source": [
    "### 전처리 함수"
   ]
  },
  {
   "cell_type": "code",
   "execution_count": 11,
   "metadata": {},
   "outputs": [],
   "source": [
    "# 정규화 및 크기 조정\n",
    "def normalize_and_resize_img(image, label):\n",
    "    image = tf.image.resize(image, [224, 224])\n",
    "    return tf.cast(image, tf.float32) / 255., label\n",
    "\n",
    "# augment 함수\n",
    "def augment(image, label):\n",
    "    image = tf.image.random_flip_left_right(image)\n",
    "    image = tf.image.random_brightness(image, max_delta=0.2)\n",
    "    image = tf.clip_by_value(image, 0, 1)\n",
    "    return image, label\n",
    "\n",
    "# one-hot encoding\n",
    "def onehot(image, label):\n",
    "    label = tf.one_hot(label, num_classes)\n",
    "    return image, label\n",
    "\n",
    "def apply_normalize_on_dataset(ds, is_test=False, batch_size=16, with_aug=False, with_cutmix=False, with_mixup=False):\n",
    "    ds = ds.map(\n",
    "        normalize_and_resize_img, \n",
    "        num_parallel_calls=2\n",
    "    )\n",
    "    if not is_test and with_aug:\n",
    "        ds = ds.map(\n",
    "            augment\n",
    "        )\n",
    "    ds = ds.batch(batch_size)\n",
    "    if not is_test and with_cutmix:\n",
    "        ds = ds.map(\n",
    "            cutmix,\n",
    "            num_parallel_calls=2\n",
    "        )\n",
    "    elif not is_test and with_mixup:\n",
    "        ds = ds.map(\n",
    "            mixup,\n",
    "            num_parallel_calls=2\n",
    "        )\n",
    "    else:\n",
    "        ds = ds.map(\n",
    "            onehot,\n",
    "            num_parallel_calls=2\n",
    "        )\n",
    "    if not is_test:\n",
    "        ds = ds.repeat()\n",
    "        ds = ds.shuffle(200)\n",
    "    ds = ds.prefetch(tf.data.experimental.AUTOTUNE)\n",
    "    \n",
    "    return ds"
   ]
  },
  {
   "cell_type": "markdown",
   "metadata": {},
   "source": [
    "### 데이터 생성"
   ]
  },
  {
   "cell_type": "markdown",
   "metadata": {},
   "source": [
    "* No Augmentation\n",
    "* 기본 Augmentation\n",
    "* 기본 + CutMix 적용\n",
    "* 기본 + Mixup 적용"
   ]
  },
  {
   "cell_type": "code",
   "execution_count": 12,
   "metadata": {},
   "outputs": [],
   "source": [
    "ds_train_no_aug = apply_normalize_on_dataset(ds_train, with_aug=False)\n",
    "ds_train_aug = apply_normalize_on_dataset(ds_train, with_aug=True)\n",
    "ds_train_cutmix = apply_normalize_on_dataset(ds_train, with_cutmix=True)\n",
    "ds_train_mixup = apply_normalize_on_dataset(ds_train, with_mixup=True)\n",
    "ds_test = apply_normalize_on_dataset(ds_test, is_test=True)"
   ]
  },
  {
   "cell_type": "markdown",
   "metadata": {},
   "source": [
    "## 2. 모델 만들기"
   ]
  },
  {
   "cell_type": "markdown",
   "metadata": {},
   "source": [
    "* 기본 ResNet - ImageNet으로 훈련됨"
   ]
  },
  {
   "cell_type": "code",
   "execution_count": 13,
   "metadata": {},
   "outputs": [],
   "source": [
    "resnet50 = keras.models.Sequential([\n",
    "    keras.applications.resnet.ResNet50(\n",
    "        include_top=False,\n",
    "        weights='imagenet',\n",
    "        input_shape=(224,224,3),\n",
    "        pooling='avg',\n",
    "    ),\n",
    "    keras.layers.Dense(num_classes, activation='softmax')\n",
    "])"
   ]
  },
  {
   "cell_type": "markdown",
   "metadata": {},
   "source": [
    "* Augmentation을 적용한 dataset으로 학습할 ResNet"
   ]
  },
  {
   "cell_type": "code",
   "execution_count": 14,
   "metadata": {},
   "outputs": [],
   "source": [
    "aug_resnet50 = keras.models.Sequential([\n",
    "    keras.applications.resnet.ResNet50(\n",
    "        include_top=False,\n",
    "        weights='imagenet',\n",
    "        input_shape=(224,224,3),\n",
    "        pooling='avg',\n",
    "    ),\n",
    "    keras.layers.Dense(num_classes, activation='softmax')\n",
    "])"
   ]
  },
  {
   "cell_type": "markdown",
   "metadata": {},
   "source": [
    "* CutMix를 적용한 dataset으로 학습할 ResNet"
   ]
  },
  {
   "cell_type": "code",
   "execution_count": 15,
   "metadata": {},
   "outputs": [],
   "source": [
    "cutmix_resnet50 = keras.models.Sequential([\n",
    "    keras.applications.resnet.ResNet50(\n",
    "        include_top=False,\n",
    "        weights='imagenet',\n",
    "        input_shape=(224,224,3),\n",
    "        pooling='avg',\n",
    "    ),\n",
    "    keras.layers.Dense(num_classes, activation='softmax')\n",
    "])"
   ]
  },
  {
   "cell_type": "markdown",
   "metadata": {},
   "source": [
    "* MixUp을 적용한 dataset으로 학습할 ResNet"
   ]
  },
  {
   "cell_type": "code",
   "execution_count": 16,
   "metadata": {},
   "outputs": [],
   "source": [
    "mixup_resnet50 = keras.models.Sequential([\n",
    "    keras.applications.resnet.ResNet50(\n",
    "        include_top=False,\n",
    "        weights='imagenet',\n",
    "        input_shape=(224,224,3),\n",
    "        pooling='avg',\n",
    "    ),\n",
    "    keras.layers.Dense(num_classes, activation='softmax')\n",
    "])"
   ]
  },
  {
   "cell_type": "markdown",
   "metadata": {},
   "source": [
    "## 3. 모델 훈련하기"
   ]
  },
  {
   "cell_type": "markdown",
   "metadata": {},
   "source": [
    "* EPOCH 설정"
   ]
  },
  {
   "cell_type": "code",
   "execution_count": 17,
   "metadata": {},
   "outputs": [],
   "source": [
    "EPOCH = 15\n",
    "# EPOCH = 3\n"
   ]
  },
  {
   "cell_type": "markdown",
   "metadata": {},
   "source": [
    "* 기본 ResNet"
   ]
  },
  {
   "cell_type": "code",
   "execution_count": 18,
   "metadata": {},
   "outputs": [
    {
     "name": "stdout",
     "output_type": "stream",
     "text": [
      "Epoch 1/15\n"
     ]
    },
    {
     "name": "stderr",
     "output_type": "stream",
     "text": [
      "2022-10-05 19:01:14.122131: I tensorflow/stream_executor/cuda/cuda_dnn.cc:384] Loaded cuDNN version 8204\n"
     ]
    },
    {
     "name": "stdout",
     "output_type": "stream",
     "text": [
      "750/750 [==============================] - 117s 145ms/step - loss: 2.1995 - accuracy: 0.4484 - val_loss: 3.2522 - val_accuracy: 0.2137\n",
      "Epoch 2/15\n",
      "750/750 [==============================] - 109s 145ms/step - loss: 0.7216 - accuracy: 0.8016 - val_loss: 1.0042 - val_accuracy: 0.6969\n",
      "Epoch 3/15\n",
      "750/750 [==============================] - 109s 145ms/step - loss: 0.2237 - accuracy: 0.9552 - val_loss: 0.9750 - val_accuracy: 0.7126\n",
      "Epoch 4/15\n",
      "750/750 [==============================] - 108s 144ms/step - loss: 0.1201 - accuracy: 0.9823 - val_loss: 0.9644 - val_accuracy: 0.7215\n",
      "Epoch 5/15\n",
      "750/750 [==============================] - 108s 145ms/step - loss: 0.0415 - accuracy: 0.9965 - val_loss: 0.9325 - val_accuracy: 0.7324\n",
      "Epoch 6/15\n",
      "750/750 [==============================] - 108s 144ms/step - loss: 0.0305 - accuracy: 0.9982 - val_loss: 0.9800 - val_accuracy: 0.7249\n",
      "Epoch 7/15\n",
      "750/750 [==============================] - 108s 144ms/step - loss: 0.0194 - accuracy: 0.9985 - val_loss: 0.9573 - val_accuracy: 0.7360\n",
      "Epoch 8/15\n",
      "750/750 [==============================] - 108s 144ms/step - loss: 0.0216 - accuracy: 0.9983 - val_loss: 0.9576 - val_accuracy: 0.7396\n",
      "Epoch 9/15\n",
      "750/750 [==============================] - 108s 144ms/step - loss: 0.0156 - accuracy: 0.9992 - val_loss: 0.9730 - val_accuracy: 0.7395\n",
      "Epoch 10/15\n",
      "750/750 [==============================] - 108s 144ms/step - loss: 0.0142 - accuracy: 0.9987 - val_loss: 0.9963 - val_accuracy: 0.7366\n",
      "Epoch 11/15\n",
      "750/750 [==============================] - 108s 144ms/step - loss: 0.0098 - accuracy: 0.9992 - val_loss: 0.9732 - val_accuracy: 0.7397\n",
      "Epoch 12/15\n",
      "750/750 [==============================] - 108s 144ms/step - loss: 0.0076 - accuracy: 0.9997 - val_loss: 0.9795 - val_accuracy: 0.7380\n",
      "Epoch 13/15\n",
      "750/750 [==============================] - 108s 144ms/step - loss: 0.0037 - accuracy: 0.9999 - val_loss: 0.9789 - val_accuracy: 0.7395\n",
      "Epoch 14/15\n",
      "750/750 [==============================] - 109s 145ms/step - loss: 0.0038 - accuracy: 0.9999 - val_loss: 0.9984 - val_accuracy: 0.7375\n",
      "Epoch 15/15\n",
      "750/750 [==============================] - 109s 146ms/step - loss: 0.0036 - accuracy: 0.9999 - val_loss: 0.9879 - val_accuracy: 0.7445\n"
     ]
    }
   ],
   "source": [
    "resnet50.compile(\n",
    "    loss='categorical_crossentropy',\n",
    "    optimizer=tf.keras.optimizers.SGD(learning_rate = 0.01),\n",
    "    metrics=['accuracy'],\n",
    ")\n",
    "\n",
    "history_resnet50_no_aug = resnet50.fit(\n",
    "    ds_train_no_aug, # augmentation 적용하지 않은 데이터셋 사용\n",
    "    steps_per_epoch=int(ds_info.splits['train'].num_examples/16),\n",
    "    validation_steps=int(ds_info.splits['test'].num_examples/16),\n",
    "    epochs=EPOCH,\n",
    "    validation_data=ds_test,\n",
    "    verbose=1,\n",
    "    use_multiprocessing=True,\n",
    ")"
   ]
  },
  {
   "cell_type": "markdown",
   "metadata": {},
   "source": [
    "* Augmentation 적용"
   ]
  },
  {
   "cell_type": "code",
   "execution_count": 19,
   "metadata": {},
   "outputs": [
    {
     "name": "stdout",
     "output_type": "stream",
     "text": [
      "Epoch 1/15\n",
      "750/750 [==============================] - 115s 146ms/step - loss: 2.2409 - accuracy: 0.4392 - val_loss: 2.8863 - val_accuracy: 0.2867\n",
      "Epoch 2/15\n",
      "750/750 [==============================] - 109s 145ms/step - loss: 0.9840 - accuracy: 0.7182 - val_loss: 1.2118 - val_accuracy: 0.6503\n",
      "Epoch 3/15\n",
      "750/750 [==============================] - 108s 144ms/step - loss: 0.5425 - accuracy: 0.8498 - val_loss: 1.1429 - val_accuracy: 0.6695\n",
      "Epoch 4/15\n",
      "750/750 [==============================] - 109s 145ms/step - loss: 0.3386 - accuracy: 0.9147 - val_loss: 1.2235 - val_accuracy: 0.6574\n",
      "Epoch 5/15\n",
      "750/750 [==============================] - 108s 144ms/step - loss: 0.2172 - accuracy: 0.9496 - val_loss: 1.0609 - val_accuracy: 0.7058\n",
      "Epoch 6/15\n",
      "750/750 [==============================] - 108s 144ms/step - loss: 0.1439 - accuracy: 0.9705 - val_loss: 1.0916 - val_accuracy: 0.6967\n",
      "Epoch 7/15\n",
      "750/750 [==============================] - 108s 145ms/step - loss: 0.0963 - accuracy: 0.9833 - val_loss: 0.9483 - val_accuracy: 0.7407\n",
      "Epoch 8/15\n",
      "750/750 [==============================] - 109s 145ms/step - loss: 0.0646 - accuracy: 0.9902 - val_loss: 0.9701 - val_accuracy: 0.7382\n",
      "Epoch 9/15\n",
      "750/750 [==============================] - 109s 145ms/step - loss: 0.0506 - accuracy: 0.9930 - val_loss: 0.9598 - val_accuracy: 0.7459\n",
      "Epoch 10/15\n",
      "750/750 [==============================] - 108s 145ms/step - loss: 0.0337 - accuracy: 0.9958 - val_loss: 1.0238 - val_accuracy: 0.7297\n",
      "Epoch 11/15\n",
      "750/750 [==============================] - 109s 145ms/step - loss: 0.0275 - accuracy: 0.9967 - val_loss: 1.1759 - val_accuracy: 0.7001\n",
      "Epoch 12/15\n",
      "750/750 [==============================] - 109s 146ms/step - loss: 0.0281 - accuracy: 0.9963 - val_loss: 0.9960 - val_accuracy: 0.7387\n",
      "Epoch 13/15\n",
      "750/750 [==============================] - 109s 146ms/step - loss: 0.0217 - accuracy: 0.9977 - val_loss: 0.9901 - val_accuracy: 0.7465\n",
      "Epoch 14/15\n",
      "750/750 [==============================] - 109s 145ms/step - loss: 0.0179 - accuracy: 0.9976 - val_loss: 0.9687 - val_accuracy: 0.7485\n",
      "Epoch 15/15\n",
      "750/750 [==============================] - 109s 146ms/step - loss: 0.0161 - accuracy: 0.9979 - val_loss: 0.9609 - val_accuracy: 0.7568\n"
     ]
    }
   ],
   "source": [
    "aug_resnet50.compile(\n",
    "    loss='categorical_crossentropy',\n",
    "    optimizer=tf.keras.optimizers.SGD(learning_rate = 0.01),\n",
    "    metrics=['accuracy'],\n",
    ")\n",
    "\n",
    "history_resnet50_aug = aug_resnet50.fit(\n",
    "    ds_train_aug, # augmentation 적용한 데이터셋 사용\n",
    "    steps_per_epoch=int(ds_info.splits['train'].num_examples/16),\n",
    "    validation_steps=int(ds_info.splits['test'].num_examples/16),\n",
    "    epochs=EPOCH,\n",
    "    validation_data=ds_test,\n",
    "    verbose=1,\n",
    "    use_multiprocessing=True,\n",
    ")"
   ]
  },
  {
   "cell_type": "markdown",
   "metadata": {},
   "source": [
    "* CutMix 적용"
   ]
  },
  {
   "cell_type": "code",
   "execution_count": 20,
   "metadata": {},
   "outputs": [
    {
     "name": "stdout",
     "output_type": "stream",
     "text": [
      "Epoch 1/15\n",
      "750/750 [==============================] - 118s 150ms/step - loss: 3.8338 - accuracy: 0.2159 - val_loss: 3.4909 - val_accuracy: 0.1962\n",
      "Epoch 2/15\n",
      "750/750 [==============================] - 112s 149ms/step - loss: 2.9779 - accuracy: 0.4155 - val_loss: 1.3810 - val_accuracy: 0.6152\n",
      "Epoch 3/15\n",
      "750/750 [==============================] - 110s 147ms/step - loss: 2.6602 - accuracy: 0.5217 - val_loss: 1.7389 - val_accuracy: 0.5401\n",
      "Epoch 4/15\n",
      "750/750 [==============================] - 110s 147ms/step - loss: 2.4631 - accuracy: 0.5809 - val_loss: 1.3162 - val_accuracy: 0.6414\n",
      "Epoch 5/15\n",
      "750/750 [==============================] - 112s 150ms/step - loss: 2.2862 - accuracy: 0.6423 - val_loss: 1.3025 - val_accuracy: 0.6582\n",
      "Epoch 6/15\n",
      "750/750 [==============================] - 112s 150ms/step - loss: 2.2013 - accuracy: 0.6713 - val_loss: 1.1746 - val_accuracy: 0.6797\n",
      "Epoch 7/15\n",
      "750/750 [==============================] - 112s 149ms/step - loss: 2.1300 - accuracy: 0.6925 - val_loss: 1.1555 - val_accuracy: 0.6913\n",
      "Epoch 8/15\n",
      "750/750 [==============================] - 112s 149ms/step - loss: 2.0117 - accuracy: 0.7324 - val_loss: 1.2329 - val_accuracy: 0.6747\n",
      "Epoch 9/15\n",
      "750/750 [==============================] - 112s 149ms/step - loss: 1.9225 - accuracy: 0.7517 - val_loss: 1.2463 - val_accuracy: 0.6834\n",
      "Epoch 10/15\n",
      "750/750 [==============================] - 112s 149ms/step - loss: 1.8782 - accuracy: 0.7667 - val_loss: 1.2288 - val_accuracy: 0.6848\n",
      "Epoch 11/15\n",
      "750/750 [==============================] - 112s 149ms/step - loss: 1.8783 - accuracy: 0.7624 - val_loss: 1.1664 - val_accuracy: 0.6936\n",
      "Epoch 12/15\n",
      "750/750 [==============================] - 111s 149ms/step - loss: 1.8318 - accuracy: 0.7724 - val_loss: 1.3909 - val_accuracy: 0.6547\n",
      "Epoch 13/15\n",
      "750/750 [==============================] - 112s 149ms/step - loss: 1.7790 - accuracy: 0.7863 - val_loss: 1.3341 - val_accuracy: 0.6673\n",
      "Epoch 14/15\n",
      "750/750 [==============================] - 112s 149ms/step - loss: 1.7590 - accuracy: 0.7888 - val_loss: 1.2540 - val_accuracy: 0.6887\n",
      "Epoch 15/15\n",
      "750/750 [==============================] - 112s 149ms/step - loss: 1.7248 - accuracy: 0.7937 - val_loss: 1.3180 - val_accuracy: 0.6683\n"
     ]
    }
   ],
   "source": [
    "cutmix_resnet50.compile(\n",
    "    loss='categorical_crossentropy',\n",
    "    optimizer=tf.keras.optimizers.SGD(learning_rate = 0.01),\n",
    "    metrics=['accuracy'],\n",
    ")\n",
    "\n",
    "history_resnet50_cutmix = cutmix_resnet50.fit(\n",
    "    ds_train_cutmix, # cutmix 적용한 데이터셋 사용\n",
    "    steps_per_epoch=int(ds_info.splits['train'].num_examples/16),\n",
    "    validation_steps=int(ds_info.splits['test'].num_examples/16),\n",
    "    epochs=EPOCH,\n",
    "    validation_data=ds_test,\n",
    "    verbose=1,\n",
    "    use_multiprocessing=True,\n",
    ")"
   ]
  },
  {
   "cell_type": "markdown",
   "metadata": {},
   "source": [
    "* MixUp 적용"
   ]
  },
  {
   "cell_type": "code",
   "execution_count": 21,
   "metadata": {},
   "outputs": [
    {
     "name": "stdout",
     "output_type": "stream",
     "text": [
      "Epoch 1/15\n",
      "750/750 [==============================] - 116s 150ms/step - loss: 3.7152 - accuracy: 0.2467 - val_loss: 3.9577 - val_accuracy: 0.1295\n",
      "Epoch 2/15\n",
      "750/750 [==============================] - 112s 149ms/step - loss: 2.8712 - accuracy: 0.4730 - val_loss: 1.6182 - val_accuracy: 0.5513\n",
      "Epoch 3/15\n",
      "750/750 [==============================] - 113s 151ms/step - loss: 2.5820 - accuracy: 0.5812 - val_loss: 1.3815 - val_accuracy: 0.6269\n",
      "Epoch 4/15\n",
      "750/750 [==============================] - 113s 150ms/step - loss: 2.3946 - accuracy: 0.6510 - val_loss: 1.2709 - val_accuracy: 0.6454\n",
      "Epoch 5/15\n",
      "750/750 [==============================] - 112s 150ms/step - loss: 2.2901 - accuracy: 0.6964 - val_loss: 1.2690 - val_accuracy: 0.6510\n",
      "Epoch 6/15\n",
      "750/750 [==============================] - 112s 150ms/step - loss: 2.1967 - accuracy: 0.7337 - val_loss: 1.2535 - val_accuracy: 0.6621\n",
      "Epoch 7/15\n",
      "750/750 [==============================] - 112s 150ms/step - loss: 2.1196 - accuracy: 0.7631 - val_loss: 1.2294 - val_accuracy: 0.6725\n",
      "Epoch 8/15\n",
      "750/750 [==============================] - 111s 148ms/step - loss: 2.0363 - accuracy: 0.7833 - val_loss: 1.1906 - val_accuracy: 0.6865\n",
      "Epoch 9/15\n",
      "750/750 [==============================] - 111s 149ms/step - loss: 1.9797 - accuracy: 0.8075 - val_loss: 1.1578 - val_accuracy: 0.6932\n",
      "Epoch 10/15\n",
      "750/750 [==============================] - 111s 148ms/step - loss: 1.9357 - accuracy: 0.8168 - val_loss: 1.2250 - val_accuracy: 0.6800\n",
      "Epoch 11/15\n",
      "750/750 [==============================] - 111s 148ms/step - loss: 1.8906 - accuracy: 0.8295 - val_loss: 1.2894 - val_accuracy: 0.6603\n",
      "Epoch 12/15\n",
      "750/750 [==============================] - 111s 148ms/step - loss: 1.8907 - accuracy: 0.8308 - val_loss: 1.2602 - val_accuracy: 0.6742\n",
      "Epoch 13/15\n",
      "750/750 [==============================] - 111s 148ms/step - loss: 1.8394 - accuracy: 0.8441 - val_loss: 1.2921 - val_accuracy: 0.6713\n",
      "Epoch 14/15\n",
      "750/750 [==============================] - 111s 148ms/step - loss: 1.8179 - accuracy: 0.8495 - val_loss: 1.2734 - val_accuracy: 0.6754\n",
      "Epoch 15/15\n",
      "750/750 [==============================] - 112s 150ms/step - loss: 1.7956 - accuracy: 0.8479 - val_loss: 1.2978 - val_accuracy: 0.6749\n"
     ]
    }
   ],
   "source": [
    "mixup_resnet50.compile(\n",
    "    loss='categorical_crossentropy',\n",
    "    optimizer=tf.keras.optimizers.SGD(learning_rate = 0.01),\n",
    "    metrics=['accuracy'],\n",
    ")\n",
    "\n",
    "history_resnet50_mixup = mixup_resnet50.fit(\n",
    "    ds_train_mixup, # mixup 적용한 데이터셋 사용\n",
    "    steps_per_epoch=int(ds_info.splits['train'].num_examples/16),\n",
    "    validation_steps=int(ds_info.splits['test'].num_examples/16),\n",
    "    epochs=EPOCH,\n",
    "    validation_data=ds_test,\n",
    "    verbose=1,\n",
    "    use_multiprocessing=True,\n",
    ")"
   ]
  },
  {
   "cell_type": "markdown",
   "metadata": {},
   "source": [
    "## 4. 훈련 과정 시각화하기"
   ]
  },
  {
   "cell_type": "code",
   "execution_count": 23,
   "metadata": {},
   "outputs": [
    {
     "data": {
      "image/png": "[encoded data removed]",
      "text/plain": [
       "<Figure size 432x288 with 1 Axes>"
      ]
     },
     "metadata": {
      "needs_background": "light"
     },
     "output_type": "display_data"
    }
   ],
   "source": [
    "plt.plot(history_resnet50_no_aug.history['val_accuracy'])\n",
    "plt.plot(history_resnet50_aug.history['val_accuracy'])\n",
    "plt.plot(history_resnet50_cutmix.history['val_accuracy'])\n",
    "plt.plot(history_resnet50_mixup.history['val_accuracy'])\n",
    "\n",
    "plt.title('Model validation accuracy')\n",
    "plt.ylabel('Accuracy')\n",
    "plt.xlabel('Epoch')\n",
    "plt.legend(['No Augmentation', 'With Augmentation', 'With CutMix', 'With MixUp'], loc='lower right')\n",
    "plt.grid(True)\n",
    "# plt.ylim(0.50, 0.80)    # 출력하고자 하는  Accuracy 범위를 지정해 주세요. \n",
    "plt.ylim(0.2, 0.80)    # 출력하고자 하는  Accuracy 범위를 지정해 주세요. \n",
    "#plt.ylim(0.72, 0.76)  # EPOCH=20으로 진행한다면 이 범위가 적당합니다. \n",
    "plt.show()"
   ]
  },
  {
   "cell_type": "markdown",
   "metadata": {},
   "source": [
    "* 확대해서 보겠습니다."
   ]
  },
  {
   "cell_type": "code",
   "execution_count": 24,
   "metadata": {},
   "outputs": [
    {
     "data": {
      "image/png": "[encoded data removed]",
      "text/plain": [
       "<Figure size 432x288 with 1 Axes>"
      ]
     },
     "metadata": {
      "needs_background": "light"
     },
     "output_type": "display_data"
    }
   ],
   "source": [
    "plt.plot(history_resnet50_no_aug.history['val_accuracy'])\n",
    "plt.plot(history_resnet50_aug.history['val_accuracy'])\n",
    "plt.plot(history_resnet50_cutmix.history['val_accuracy'])\n",
    "plt.plot(history_resnet50_mixup.history['val_accuracy'])\n",
    "\n",
    "plt.title('Model validation accuracy')\n",
    "plt.ylabel('Accuracy')\n",
    "plt.xlabel('Epoch')\n",
    "plt.legend(['No Augmentation', 'With Augmentation', 'With CutMix', 'With MixUp'], loc='lower right')\n",
    "plt.grid(True)\n",
    "# plt.ylim(0.50, 0.80)    # 출력하고자 하는  Accuracy 범위를 지정해 주세요. \n",
    "plt.ylim(0.5, 0.80)    # 출력하고자 하는  Accuracy 범위를 지정해 주세요. \n",
    "#plt.ylim(0.72, 0.76)  # EPOCH=20으로 진행한다면 이 범위가 적당합니다. \n",
    "plt.show()"
   ]
  },
  {
   "cell_type": "markdown",
   "metadata": {},
   "source": [
    "* CutMix, MixUp보다는 No Augmentation과 Augmentation을 적용한 것이 더 높게 나옵니다.\n",
    "* 초반에는 No Augmentationdl 더 높게 나오지만 Epoch가 증가함에 따라서 Augmentation을 적용한 것이 더 높게 나옵니다.\n",
    "* Dataset과 Augmentation의 종류에 따라 accuracy가 다르게 나올 것 같지만.\n",
    "* one-hot이 적용된 것이 낮은 epoch에서는 높게 나오는 것 같습니다."
   ]
  },
  {
   "cell_type": "markdown",
   "metadata": {},
   "source": [
    "### 회고"
   ]
  },
  {
   "cell_type": "markdown",
   "metadata": {},
   "source": [
    "* 이번 프로젝트에서 어려웠던 점\n",
    "    - CutMix와 MixUp의 함수의 내용을 변경하고 싶지만 rand가 아닌 다른 좋은 방법이 떠오르지않았습니다. \n",
    "* 프로젝트를 진행하면서 알아낸 점 혹은 아직 모호한 점\n",
    "  * 알게 된점\n",
    "    - CutMix와 MixUp을 적용한다고 더 좋은 Accuracy가 나오지 않습니다.\n",
    "  * 아직 모호한 점\n",
    "    - CutMix와 MixUp의 Accuracy가 다른 Augmentation이나 Augmentation 비적용보다 낮게 나오는 것이 dataset에 의해서라고 생각되지만 확실하지 않습니다. \n",
    "* 루브릭 평가를 맞추기 위해 시도한 점\n",
    "    - 모델 확인을 위해 최소한의 Epoch = 15 을 적용하였습니다.\n",
    "    - Accuracy 비교를 위해 그래프를 그렸습니다."
   ]
  }
 ],
 "metadata": {
  "kernelspec": {
   "display_name": "Python 3.10.6 ('tensorflow': venv)",
   "language": "python",
   "name": "python3"
  },
  "language_info": {
   "codemirror_mode": {
    "name": "ipython",
    "version": 3
   },
   "file_extension": ".py",
   "mimetype": "text/x-python",
   "name": "python",
   "nbconvert_exporter": "python",
   "pygments_lexer": "ipython3",
   "version": "3.10.6"
  },
  "orig_nbformat": 4,
  "vscode": {
   "interpreter": {
    "hash": "d3d548dbc07dac0e24bbfeb6e932dc9e9a9d93b0bdd3d2fd0655f4be29fd0580"
   }
  }
 },
 "nbformat": 4,
 "nbformat_minor": 2
}
